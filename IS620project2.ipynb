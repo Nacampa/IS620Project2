{
 "metadata": {
  "name": ""
 },
 "nbformat": 3,
 "nbformat_minor": 0,
 "worksheets": [
  {
   "cells": [
    {
     "cell_type": "code",
     "collapsed": false,
     "input": [
      "%load assignment7rev2.py"
     ],
     "language": "python",
     "metadata": {},
     "outputs": [],
     "prompt_number": 1
    },
    {
     "cell_type": "code",
     "collapsed": false,
     "input": [
      "# IS620 - Assignment 7\n",
      "# Program: assignment7.py\n",
      "# Student: Neil Acampa\n",
      "# Date:    10/12/16\n",
      "# Function: To use a bipartite network (a network with 2 distinct node sets)\n",
      "#           and to perform the island method to identify significant subgraphs\n",
      "\n",
      "#           Read in movie data from IMDB and test on a small sample. Create nodes and graph\n",
      "#           Headings: Title,year,length,budget,rating (Using Movie info and average rating)\n",
      "#           Headings: votes,r1,r2,r3,r4,r5,r6,r7,r8,r9,r10,mpaa\t(Not using)\n",
      "#           Headings: Action,Animation,Comedy,Drama,Documentary,Romance,Short (Using Movie Genra)\n",
      "\n",
      "\t\t\t\t          \n",
      "#           10/9/16:  Get the Island method to work for the retweet graph\n",
      "#\t    10/16/16: Get the Island method to work for the movie database \n",
      "\n",
      "\n",
      "\n",
      "from __future__ import absolute_import \n",
      "from __future__ import division\n",
      "import re\n",
      "import os \n",
      "import math\n",
      "import decimal\n",
      "import numpy as np\n",
      "import scipy\n",
      "import matplotlib.pyplot as plt\n",
      "import pandas as pd\n",
      "from pandas import DataFrame\n",
      "import networkx as nx\n",
      "import random\n",
      "#from prettytable import prettytable\n",
      "\n",
      "\n",
      "# Movie nodes\n",
      "movietitle =[]\n",
      "movieyear  =[]\n",
      "movielength=[]\n",
      "\n",
      "# Posible Edge Value\n",
      "rating=[]\n",
      "\n",
      "# Genra Nodes\n",
      "actiongenra=[]\n",
      "animationgenra=[]\n",
      "comedygenra=[]\n",
      "dramagenra=[]\n",
      "docgenra=[]\n",
      "romancegenra=[]\n",
      "shortgenra=[]\n",
      "\n",
      "linelst=[]\n",
      "lines  = \"\"\n",
      "\n",
      "def trim_edges(e, weight=1):\n",
      "   \"\"\"Method from Social Network Analysis for Startups\"\"\"\n",
      "   \n",
      "   g2=nx.Graph()\n",
      "   for f, to , edata in e.edges(data=True):\n",
      "     if edata['weight'] > weight:\n",
      "       g2.add_edge(f, to, edata)\n",
      "     \n",
      "   return g2\n",
      "\n",
      "\n",
      "def island_method(e, iterations = 5):\n",
      "   \"\"\"Method from Social Network Analysis for Startups\"\"\"\n",
      "\n",
      "   weights = [edata['weight'] for f,to,edata in e.edges(data=True) if 'weight' in edata] \n",
      "   #weights = [(u,v,edata['weight']) for u,v,edata in g.edges(data=True) if 'weight' in edata ]\n",
      "\n",
      "   mx = int(max(weights))\n",
      "   mn = int(min(weights))\n",
      " \n",
      "   #compute the size of the step, so we get a resonable step in iterations\n",
      "   \n",
      "   step = int((mx-mn)/iterations)\n",
      " \n",
      "\n",
      "   return [[threshold, trim_edges(e, threshold)] for threshold in range(mn, mx, step)]\n",
      "\n",
      "\n",
      "\n",
      "\n",
      "if __name__ == \"__main__\":\n",
      " linecnt    = 0\n",
      " print\n",
      " print\n",
      " e = nx.read_pajek(\"egypt_retweets.net\")\n",
      "  \n",
      " cc = nx.connected_component_subgraphs(e)\n",
      " x = [len(c) for c in nx.connected_component_subgraphs(e) if len(c) > 10]\n",
      " print(x)\n",
      " island = island_method(e)\n",
      " for i in island:\n",
      "   print (\"%d connections for each pair of nodes  %d Nodes at that Level\") % (i[0], len(i[1]))\n",
      " \n",
      "\n",
      " \n",
      " \n",
      "\n",
      "\n",
      " "
     ],
     "language": "python",
     "metadata": {},
     "outputs": []
    },
    {
     "cell_type": "code",
     "collapsed": false,
     "input": [
      "%run assignment7rev2.py"
     ],
     "language": "python",
     "metadata": {},
     "outputs": [
      {
       "output_type": "stream",
       "stream": "stdout",
       "text": [
        "\n",
        "\n",
        "[17762, 64, 16, 13, 11, 11, 14, 16]"
       ]
      },
      {
       "output_type": "stream",
       "stream": "stdout",
       "text": [
        "\n",
        "1 connections for each pair of nodes  16241 Nodes at that Level"
       ]
      },
      {
       "output_type": "stream",
       "stream": "stdout",
       "text": [
        "\n",
        "62 connections for each pair of nodes  31 Nodes at that Level\n",
        "123 connections for each pair of nodes  8 Nodes at that Level\n",
        "184 connections for each pair of nodes  5 Nodes at that Level\n",
        "245 connections for each pair of nodes  5 Nodes at that Level\n"
       ]
      }
     ],
     "prompt_number": 2
    },
    {
     "cell_type": "code",
     "collapsed": false,
     "input": [],
     "language": "python",
     "metadata": {},
     "outputs": []
    }
   ],
   "metadata": {}
  }
 ]
}